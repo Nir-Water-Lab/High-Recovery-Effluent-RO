{
 "cells": [
  {
   "cell_type": "code",
   "execution_count": 27,
   "metadata": {},
   "outputs": [
    {
     "name": "stdout",
     "output_type": "stream",
     "text": [
      "Mass_transfer: 5.845714285714286e-05\n",
      "PFBA_Permeability: 4.822170690190144e-06\n"
     ]
    }
   ],
   "source": [
    "import numpy as np\n",
    "import scipy.optimize as optimize\n",
    "from math import exp,sqrt\n",
    "\"\"\"\n",
    "sh = sheerwood number\n",
    "d = filament diameter\n",
    "D_PFBA = Diffusion coefficient of PFAS in water\n",
    "\"\"\"\n",
    "def Mass_transfer():\n",
    "    sh = 66\n",
    "    d = 7e-4\n",
    "    D_PFBA = 6.2e-10\n",
    "    k = sh * D_PFBA/d\n",
    "    return k\n",
    "\n",
    "k = Mass_transfer()\n",
    "print(\"Mass_transfer:\",k)\n",
    "\n",
    "\"\"\"\n",
    "R = Rejection\n",
    "k = Mass transfer coefficient\n",
    "Jw = Hydraulic flux\n",
    "B = Solute(PFBA) Permeability (m/s): 1.12517e-05 (R = 0.3, before modification), 4.82217e-06(R=0.5, after SIMULATED)  3.351e-06 (R = 0.59, after modication), 4.87087e-08 (99% rejection, ideal membrane)\n",
    "A = Hydraulic Permeability (m/s) : 5.07e-07 (R = 0.3, before modification), 4.4744e-07 (R=0.5, after SIMULATED) 3.889e-07(R=0.59, after modification), 2.9983e-07(99% rejection, ideal membrane)\n",
    "\n",
    "Test with different membranes assuming a 40% decline in water perm.\n",
    "Pw1 = 7.38e-07, 7.33e-07, 1.09e-06, 1.23e-06\n",
    "\"\"\"\n",
    "def func(B):\n",
    "    R = 0.5\n",
    "    k = 5.8457e-5   #(m/s)\n",
    "    Jw = 5.2778e-6  #(m/s, 19LMH)\n",
    "    w = exp(Jw/k)\n",
    "    X = (1-R)*Jw\n",
    "    Z = R* w\n",
    "    return B - X/Z \n",
    "\n",
    "PFBA_Permeabilty =optimize.bisect(func,1e-10,1e-4, xtol=5e-17, rtol= 5e-15, maxiter = 500)\n",
    "print(\"PFBA_Permeability:\",PFBA_Permeabilty) \n"
   ]
  },
  {
   "cell_type": "code",
   "execution_count": 28,
   "metadata": {},
   "outputs": [
    {
     "name": "stdout",
     "output_type": "stream",
     "text": [
      "Water_Permeabilty: 4.4743975191252234e-07\n"
     ]
    }
   ],
   "source": [
    "\"\"\" \n",
    "Estimating the water permeability coefficient \n",
    "\"\"\"\n",
    "k = 5.8457e-5 \n",
    "jw = 5.2778e-6\n",
    "Ps = 4.82217e-06 \n",
    "Ca = 0.001;\tP = 0.00007;\tK = 0.00060;\t\n",
    "Mg = 0.00035; Na = 0.00593;\tSO4 = 0.00089; Cl = 0.00593\n",
    "Pfba = 0.0001\n",
    "Cb = (Cl + Na + Mg + Ca + K + SO4 + Pfba)\n",
    "Pbar = 12\n",
    "PHI = 1\n",
    "T = 298.15\n",
    "def func(Pw):\n",
    "    z = exp (jw / k)\n",
    "    cm = ((Ps + jw) * Cb * z) / (jw + Ps * z)\n",
    "    cp = Ps * Cb * z / (jw + Ps * z)            \n",
    "    return jw/(Pbar - (PHI * cm - 0.98 * cp) * T *0.083145) - Pw \n",
    "Water_Permeabilty =optimize.bisect(func,1e-10,1e-4, xtol=5e-17, rtol= 5e-15, maxiter = 500)\n",
    "print(\"Water_Permeabilty:\",Water_Permeabilty)"
   ]
  }
 ],
 "metadata": {
  "kernelspec": {
   "display_name": "base",
   "language": "python",
   "name": "python3"
  },
  "language_info": {
   "codemirror_mode": {
    "name": "ipython",
    "version": 3
   },
   "file_extension": ".py",
   "mimetype": "text/x-python",
   "name": "python",
   "nbconvert_exporter": "python",
   "pygments_lexer": "ipython3",
   "version": "3.9.17"
  },
  "orig_nbformat": 4
 },
 "nbformat": 4,
 "nbformat_minor": 2
}
